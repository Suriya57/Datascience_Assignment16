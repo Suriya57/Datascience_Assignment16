{
 "cells": [
  {
   "cell_type": "code",
   "execution_count": 34,
   "metadata": {},
   "outputs": [
    {
     "name": "stdout",
     "output_type": "stream",
     "text": [
      "The probablity of getting exactly 5 questions wrong is :  3.4264958230778575e-06 \n",
      "\n",
      "The probablity mass function is realized using a bar plot \n",
      "\n"
     ]
    },
    {
     "data": {
      "image/png": "[encoded data removed]",
      "text/plain": [
       "<Figure size 432x288 with 1 Axes>"
      ]
     },
     "metadata": {},
     "output_type": "display_data"
    }
   ],
   "source": [
    "#A test is conducted which is consisting of 20 MCQs (multiple choices questions) with every MCQ having its four options out of which only one is correct. Determine the\n",
    "#probability that a person undertaking that test has answered exactly 5 questions wrong.\n",
    "\n",
    "import matplotlib.pyplot as plt\n",
    "import scipy\n",
    "import scipy.stats as st\n",
    "from scipy.special import factorial\n",
    "import math\n",
    "import numpy as np\n",
    "%matplotlib inline\n",
    "\n",
    "n = 20\n",
    "success = 0.25\n",
    "failure = 0.75\n",
    "# P(X=r) = (n!/r!*(n-r)!) * (p)**r * (q)**(n-r) \n",
    "Ncr = factorial(20)/(factorial(5)*factorial(15))\n",
    "Prob_succ = (0.25)**15\n",
    "Prob_fail = (0.75)**5\n",
    "Prob_of_5_wrong = Ncr * Prob_succ * Prob_fail\n",
    "print(\"The probablity of getting exactly 5 questions wrong is : \",Prob_of_5_wrong,\"\\n\")\n",
    "p = 0.75\n",
    "x = np.arange(20)\n",
    "print(\"The probablity mass function is realized using a bar plot\",\"\\n\")\n",
    "pmf = st.binom.pmf(x,n,p)\n",
    "plt.bar(x,pmf)\n",
    "plt.show()"
   ]
  },
  {
   "cell_type": "code",
   "execution_count": 31,
   "metadata": {},
   "outputs": [
    {
     "name": "stdout",
     "output_type": "stream",
     "text": [
      "The probability of success = probability of getting a “D” is  0.2\n",
      "The probability of failure = probability of not getting a “D” is  0.8\n"
     ]
    }
   ],
   "source": [
    "# A die marked A to E is rolled 50 times. Find the probability of getting a “D” exactly 5 times. \n",
    "total_roll = 50\n",
    "k = 5\n",
    "#n - k = 45\n",
    "# The probability of success = probability of getting a “D”\n",
    "prob_of_D = 1/5\n",
    "print(\"The probability of success = probability of getting a “D” is \",prob_of_D)\n",
    "#Hence, the probability of failure = probability of not getting a “D” = 1 - s \n",
    "prob_of_not_getting_D=  4/5\n",
    "print(\"The probability of failure = probability of not getting a “D” is \",prob_of_not_getting_D)"
   ]
  },
  {
   "cell_type": "code",
   "execution_count": 29,
   "metadata": {},
   "outputs": [
    {
     "name": "stdout",
     "output_type": "stream",
     "text": [
      "The probability of getting red ball is :  0.4\n",
      "The probability of getting black ball is :  0.6\n"
     ]
    }
   ],
   "source": [
    "# Two balls are drawn at random in succession without replacement from an urn containing 4 red balls and 6 black balls\n",
    "\n",
    "Total_balls = 10\n",
    "prob_of_red_ball= 4/10\n",
    "prob_of_black_ball = 6/10\n",
    "print(\"The probability of getting red ball is : \",prob_of_red_ball)\n",
    "print(\"The probability of getting black ball is : \",prob_of_black_ball)"
   ]
  }
 ],
 "metadata": {
  "kernelspec": {
   "display_name": "Python 3",
   "language": "python",
   "name": "python3"
  },
  "language_info": {
   "codemirror_mode": {
    "name": "ipython",
    "version": 3
   },
   "file_extension": ".py",
   "mimetype": "text/x-python",
   "name": "python",
   "nbconvert_exporter": "python",
   "pygments_lexer": "ipython3",
   "version": "3.6.1"
  }
 },
 "nbformat": 4,
 "nbformat_minor": 2
}
